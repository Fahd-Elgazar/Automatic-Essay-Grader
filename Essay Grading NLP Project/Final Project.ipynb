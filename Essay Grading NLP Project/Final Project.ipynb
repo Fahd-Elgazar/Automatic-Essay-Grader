{
 "cells": [
  {
   "cell_type": "markdown",
   "id": "5aa40e29",
   "metadata": {},
   "source": [
    "# 📌 Step 1: Load and Explore the Dataset"
   ]
  },
  {
   "cell_type": "code",
   "execution_count": 4,
   "id": "2a2bca78",
   "metadata": {},
   "outputs": [
    {
     "name": "stdout",
     "output_type": "stream",
     "text": [
      "Index(['essay_id', 'essay_set', 'essay', 'rater1_domain1', 'rater2_domain1',\n",
      "       'rater3_domain1', 'domain1_score', 'rater1_domain2', 'rater2_domain2',\n",
      "       'domain2_score', 'rater1_trait1', 'rater1_trait2', 'rater1_trait3',\n",
      "       'rater1_trait4', 'rater1_trait5', 'rater1_trait6', 'rater2_trait1',\n",
      "       'rater2_trait2', 'rater2_trait3', 'rater2_trait4', 'rater2_trait5',\n",
      "       'rater2_trait6', 'rater3_trait1', 'rater3_trait2', 'rater3_trait3',\n",
      "       'rater3_trait4', 'rater3_trait5', 'rater3_trait6'],\n",
      "      dtype='object')\n",
      "   essay_id  essay_set                                              essay  \\\n",
      "0         1          1  Dear local newspaper, I think effects computer...   \n",
      "1         2          1  Dear @CAPS1 @CAPS2, I believe that using compu...   \n",
      "\n",
      "   rater1_domain1  rater2_domain1  rater3_domain1  domain1_score  \\\n",
      "0               4               4             NaN              8   \n",
      "1               5               4             NaN              9   \n",
      "\n",
      "   rater1_domain2  rater2_domain2  domain2_score  ...  rater2_trait3  \\\n",
      "0             NaN             NaN            NaN  ...            NaN   \n",
      "1             NaN             NaN            NaN  ...            NaN   \n",
      "\n",
      "   rater2_trait4  rater2_trait5  rater2_trait6  rater3_trait1  rater3_trait2  \\\n",
      "0            NaN            NaN            NaN            NaN            NaN   \n",
      "1            NaN            NaN            NaN            NaN            NaN   \n",
      "\n",
      "   rater3_trait3  rater3_trait4  rater3_trait5  rater3_trait6  \n",
      "0            NaN            NaN            NaN            NaN  \n",
      "1            NaN            NaN            NaN            NaN  \n",
      "\n",
      "[2 rows x 28 columns]\n"
     ]
    }
   ],
   "source": [
    "import pandas as pd\n",
    "\n",
    "# Try with ISO-8859-1 encoding\n",
    "df = pd.read_csv(r\"D:\\Term6\\NLP\\Lab\\Final project\\Asap Dataset\\training_set_rel3.tsv\", \n",
    "                 sep='\\t', \n",
    "                 encoding='ISO-8859-1')  # or use 'windows-1252'\n",
    "\n",
    "# Preview the structure\n",
    "print(df.columns)\n",
    "print(df.head(2))\n"
   ]
  },
  {
   "cell_type": "code",
   "execution_count": 5,
   "id": "fc5912b0",
   "metadata": {},
   "outputs": [
    {
     "name": "stdout",
     "output_type": "stream",
     "text": [
      "   essay_id  domain1_score  scaled_score\n",
      "0         1              8             6\n",
      "1         2              9             7\n",
      "2         3              7             6\n",
      "3         4             10             8\n",
      "4         5              8             6\n"
     ]
    }
   ],
   "source": [
    "# Filter to essay set 1\n",
    "df1 = df[df['essay_set'] == 1].copy()\n",
    "\n",
    "# Normalize domain1_score to a 1–10 scale\n",
    "# domain1_score originally ranges from 2 to 12\n",
    "def scale_score(score):\n",
    "    return round(1 + ((score - 2) / (12 - 2)) * 9)\n",
    "\n",
    "df1['scaled_score'] = df1['domain1_score'].apply(scale_score)\n",
    "\n",
    "# Preview\n",
    "print(df1[['essay_id', 'domain1_score', 'scaled_score']].head())\n"
   ]
  },
  {
   "cell_type": "markdown",
   "id": "d6c255ef",
   "metadata": {},
   "source": [
    "# 🧹 Step 2: Preprocessing and Cleaning"
   ]
  },
  {
   "cell_type": "code",
   "execution_count": 6,
   "id": "1952d785",
   "metadata": {},
   "outputs": [],
   "source": [
    "import re\n",
    "from textblob import TextBlob\n",
    "\n",
    "def preprocess_essay_full(text):\n",
    "    # 1. Lowercase\n",
    "    text = text.lower()\n",
    "\n",
    "    # 2. Remove punctuation and numbers\n",
    "    text = re.sub(r'[^\\w\\s]', '', text)\n",
    "    text = re.sub(r'\\d+', '', text)\n",
    "\n",
    "    # 3. Remove extra spaces\n",
    "    text = re.sub(r'\\s+', ' ', text).strip()\n",
    "\n",
    "    # 4. Count spelling errors\n",
    "    blob = TextBlob(text)\n",
    "    spelling_errors = sum(1 for word in blob.words if word.lower() != word.correct().lower())\n",
    "\n",
    "    return text, spelling_errors\n"
   ]
  },
  {
   "cell_type": "markdown",
   "id": "a9672e86",
   "metadata": {},
   "source": [
    "# 🧠 Step 3: Feature Engineering"
   ]
  },
  {
   "cell_type": "code",
   "execution_count": null,
   "id": "c9cadb77",
   "metadata": {},
   "outputs": [],
   "source": [
    "# Apply preprocessing (cleaning + spelling error count)\n",
    "df1[['clean_essay', 'spelling_errors']] = df1['essay'].apply(\n",
    "    lambda x: pd.Series(preprocess_essay_full(x))\n",
    ")\n",
    "\n",
    "# Preview the result with updated target column\n",
    "print(df1[['essay_id', 'domain1_score', 'scaled_score', 'clean_essay', 'spelling_errors']].head())\n"
   ]
  },
  {
   "cell_type": "code",
   "execution_count": null,
   "id": "8ade4e9b",
   "metadata": {},
   "outputs": [
    {
     "name": "stderr",
     "output_type": "stream",
     "text": [
      "c:\\Users\\ArabTech\\AppData\\Local\\Programs\\Python\\Python310\\lib\\site-packages\\tqdm\\auto.py:21: TqdmWarning: IProgress not found. Please update jupyter and ipywidgets. See https://ipywidgets.readthedocs.io/en/stable/user_install.html\n",
      "  from .autonotebook import tqdm as notebook_tqdm\n",
      "From c:\\Users\\ArabTech\\AppData\\Local\\Programs\\Python\\Python310\\lib\\site-packages\\tf_keras\\src\\losses.py:2976: The name tf.losses.sparse_softmax_cross_entropy is deprecated. Please use tf.compat.v1.losses.sparse_softmax_cross_entropy instead.\n",
      "\n",
      "100%|██████████| 1783/1783 [00:09<00:00, 187.38it/s]\n"
     ]
    }
   ],
   "source": [
    "from sentence_transformers import SentenceTransformer\n",
    "import numpy as np\n",
    "from tqdm import tqdm\n",
    "\n",
    "# Load model\n",
    "sbert_model = SentenceTransformer('all-MiniLM-L6-v2')\n",
    "\n",
    "# Optional: Use tqdm to monitor progress\n",
    "tqdm.pandas()\n",
    "\n",
    "# Apply SBERT and generate embeddings\n",
    "df1['embedding'] = df1['clean_essay'].progress_apply(lambda x: sbert_model.encode(x, convert_to_numpy=True))\n"
   ]
  },
  {
   "cell_type": "code",
   "execution_count": null,
   "id": "466826ab",
   "metadata": {},
   "outputs": [],
   "source": [
    "import numpy as np\n",
    "\n",
    "# Step 1: Ensure all embeddings are NumPy arrays (just in case)\n",
    "embeddings = np.array(df1['embedding'].tolist())\n",
    "\n",
    "# Step 2: Reshape spelling errors to match embedding dimensions\n",
    "spelling_errors = df1['spelling_errors'].values.reshape(-1, 1)\n",
    "\n",
    "# Step 3: Concatenate embeddings with spelling error feature\n",
    "X_final = np.hstack((embeddings, spelling_errors))\n"
   ]
  },
  {
   "cell_type": "markdown",
   "id": "7540395f",
   "metadata": {},
   "source": [
    "# 📊 Step 4: Model Training and Evaluation"
   ]
  },
  {
   "cell_type": "code",
   "execution_count": null,
   "id": "30ad0baf",
   "metadata": {},
   "outputs": [],
   "source": [
    "# Target variable for regression\n",
    "y = df1['scaled_score'].values"
   ]
  },
  {
   "cell_type": "code",
   "execution_count": null,
   "id": "65ce8338",
   "metadata": {},
   "outputs": [
    {
     "name": "stdout",
     "output_type": "stream",
     "text": [
      "📉 MAE: 0.76\n",
      "📈 RMSE: 0.96\n",
      "🎯 R² Score: 0.40\n",
      "🔗 Pearson Correlation: 0.64\n"
     ]
    }
   ],
   "source": [
    "from sklearn.model_selection import train_test_split\n",
    "from sklearn.ensemble import RandomForestRegressor\n",
    "from sklearn.metrics import mean_absolute_error, mean_squared_error, r2_score\n",
    "from scipy.stats import pearsonr\n",
    "import numpy as np\n",
    "\n",
    "# Split data\n",
    "X_train, X_test, y_train, y_test = train_test_split(X_final, y, test_size=0.2, random_state=42)\n",
    "\n",
    "# Train regression model\n",
    "regressor = RandomForestRegressor(n_estimators=100, random_state=42)\n",
    "regressor.fit(X_train, y_train)\n",
    "\n",
    "# Predict\n",
    "y_pred = regressor.predict(X_test)\n",
    "\n",
    "# Evaluate\n",
    "mae = mean_absolute_error(y_test, y_pred)\n",
    "rmse = np.sqrt(mean_squared_error(y_test, y_pred))\n",
    "r2 = r2_score(y_test, y_pred)\n",
    "pearson_corr, _ = pearsonr(y_test, y_pred)\n",
    "\n",
    "print(f\"📉 MAE: {mae:.2f}\")\n",
    "print(f\"📈 RMSE: {rmse:.2f}\")\n",
    "print(f\"🎯 R² Score: {r2:.2f}\")\n",
    "print(f\"🔗 Pearson Correlation: {pearson_corr:.2f}\")\n"
   ]
  },
  {
   "cell_type": "markdown",
   "id": "c0819eb5",
   "metadata": {},
   "source": [
    "# 🚀 Step 5: Enhanced Model Versions"
   ]
  },
  {
   "cell_type": "markdown",
   "id": "823e1e72",
   "metadata": {},
   "source": [
    "v2 (xgb version)"
   ]
  },
  {
   "cell_type": "code",
   "execution_count": null,
   "id": "94eeabeb",
   "metadata": {},
   "outputs": [],
   "source": [
    "from xgboost import XGBRegressor\n",
    "from sklearn.metrics import mean_absolute_error, mean_squared_error, r2_score\n",
    "from scipy.stats import pearsonr\n",
    "import numpy as np\n"
   ]
  },
  {
   "cell_type": "code",
   "execution_count": null,
   "id": "f3a2a0f0",
   "metadata": {},
   "outputs": [],
   "source": [
    "# Add essay length as a new numeric feature\n",
    "df1['essay_length'] = df1['clean_essay'].str.split().apply(len)"
   ]
  },
  {
   "cell_type": "code",
   "execution_count": null,
   "id": "c9848759",
   "metadata": {},
   "outputs": [],
   "source": [
    "# Convert SBERT embeddings to array\n",
    "X_embed = np.vstack(df1['embedding'].values)\n",
    "\n",
    "# Extra features\n",
    "spelling_errors = df1['spelling_errors'].values.reshape(-1, 1)\n",
    "essay_length = df1['essay_length'].values.reshape(-1, 1)\n",
    "\n",
    "# Combine all features\n",
    "X_final = np.hstack((X_embed, spelling_errors, essay_length))\n"
   ]
  },
  {
   "cell_type": "code",
   "execution_count": null,
   "id": "0ec0771c",
   "metadata": {},
   "outputs": [],
   "source": [
    "from sklearn.model_selection import train_test_split\n",
    "\n",
    "# Split data\n",
    "X_train, X_test, y_train, y_test = train_test_split(X_final, df1['scaled_score'].values, test_size=0.2, random_state=42)\n",
    "\n",
    "# Train XGBoost Regressor\n",
    "xgb_model = XGBRegressor(n_estimators=150, learning_rate=0.1, max_depth=6, random_state=42)\n",
    "xgb_model.fit(X_train, y_train)\n",
    "\n",
    "# Predict\n",
    "y_pred = xgb_model.predict(X_test)\n"
   ]
  },
  {
   "cell_type": "code",
   "execution_count": null,
   "id": "022354ec",
   "metadata": {},
   "outputs": [
    {
     "name": "stdout",
     "output_type": "stream",
     "text": [
      "📉 MAE: 0.56\n",
      "📈 RMSE: 0.73\n",
      "🎯 R² Score: 0.65\n",
      "🔗 Pearson Correlation: 0.81\n"
     ]
    }
   ],
   "source": [
    "# Evaluation metrics\n",
    "mae = mean_absolute_error(y_test, y_pred)\n",
    "rmse = np.sqrt(mean_squared_error(y_test, y_pred))\n",
    "r2 = r2_score(y_test, y_pred)\n",
    "pearson_corr, _ = pearsonr(y_test, y_pred)\n",
    "\n",
    "print(f\"📉 MAE: {mae:.2f}\")\n",
    "print(f\"📈 RMSE: {rmse:.2f}\")\n",
    "print(f\"🎯 R² Score: {r2:.2f}\")\n",
    "print(f\"🔗 Pearson Correlation: {pearson_corr:.2f}\")\n"
   ]
  },
  {
   "cell_type": "markdown",
   "id": "1c4571dd",
   "metadata": {},
   "source": [
    "| Metric            | **Random Forest** | **XGBoost (with extra features)** |\n",
    "| ----------------- | ----------------- | --------------------------------- |\n",
    "| **MAE**           | 0.76              | ✅ **0.56** ↓ better               |\n",
    "| **RMSE**          | 0.96              | ✅ **0.73** ↓ better               |\n",
    "| **R² Score**      | 0.40              | ✅ **0.65** ↑ much better          |\n",
    "| **Pearson Corr.** | 0.64              | ✅ **0.81** ↑ stronger match       |\n"
   ]
  },
  {
   "cell_type": "markdown",
   "id": "2c73c50e",
   "metadata": {},
   "source": [
    "v3 (XGBoost Regressor + SBERT Embedding + Spelling Errors + Essay Length + Readability + Prompt Similarity + Paragraph Count)"
   ]
  },
  {
   "cell_type": "code",
   "execution_count": null,
   "id": "55e9f8c6",
   "metadata": {},
   "outputs": [],
   "source": [
    "import textstat\n",
    "\n",
    "# Flesch-Kincaid Grade Level (higher = harder to read)\n",
    "df1['readability'] = df1['clean_essay'].apply(textstat.flesch_kincaid_grade)\n"
   ]
  },
  {
   "cell_type": "code",
   "execution_count": null,
   "id": "3fd21168",
   "metadata": {},
   "outputs": [],
   "source": [
    "df1['paragraph_count'] = df1['essay'].apply(lambda x: len(x.split('\\n')))"
   ]
  },
  {
   "cell_type": "code",
   "execution_count": null,
   "id": "e683ff86",
   "metadata": {},
   "outputs": [],
   "source": [
    "import language_tool_python\n",
    "\n",
    "# Initialize grammar checker\n",
    "tool = language_tool_python.LanguageTool('en-US')\n",
    "\n",
    "# Grammar error counter\n",
    "def count_grammar_errors(text):\n",
    "    matches = tool.check(text)\n",
    "    return len(matches)"
   ]
  },
  {
   "cell_type": "code",
   "execution_count": null,
   "id": "3f06efd6",
   "metadata": {},
   "outputs": [],
   "source": [
    "# Add grammar error count column (v3)\n",
    "df1['grammar_errors3'] = df1['essay'].apply(count_grammar_errors)"
   ]
  },
  {
   "cell_type": "code",
   "execution_count": null,
   "id": "717f180d",
   "metadata": {},
   "outputs": [],
   "source": [
    "import numpy as np\n",
    "\n",
    "# SBERT embeddings\n",
    "X_embed3 = np.vstack(df1['embedding'].values)\n",
    "\n",
    "# Extra features (all reshaped as column vectors)\n",
    "spelling_errors3 = df1['spelling_errors'].values.reshape(-1, 1)\n",
    "essay_length3 = df1['essay_length'].values.reshape(-1, 1)\n",
    "readability3 = df1['readability'].values.reshape(-1, 1)\n",
    "similarity3 = df1['prompt_similarity'].values.reshape(-1, 1)\n",
    "paragraphs3 = df1['paragraph_count'].values.reshape(-1, 1)\n",
    "grammar_errors3 = df1['grammar_errors3'].values.reshape(-1, 1)\n",
    "\n",
    "# Combine all into final X\n",
    "X_final3 = np.hstack((\n",
    "    X_embed3,\n",
    "    spelling_errors3,\n",
    "    essay_length3,\n",
    "    readability3,\n",
    "    similarity3,\n",
    "    paragraphs3,\n",
    "    grammar_errors3\n",
    "))\n"
   ]
  },
  {
   "cell_type": "code",
   "execution_count": null,
   "id": "2467a42c",
   "metadata": {},
   "outputs": [
    {
     "name": "stdout",
     "output_type": "stream",
     "text": [
      "📉 MAE (v3): 0.56\n",
      "📈 RMSE (v3): 0.72\n",
      "🎯 R² Score (v3): 0.66\n",
      "🔗 Pearson Correlation (v3): 0.82\n"
     ]
    }
   ],
   "source": [
    "from xgboost import XGBRegressor\n",
    "from sklearn.model_selection import train_test_split\n",
    "from sklearn.metrics import mean_absolute_error, mean_squared_error, r2_score\n",
    "from scipy.stats import pearsonr\n",
    "\n",
    "# Target\n",
    "y3 = df1['scaled_score'].values\n",
    "\n",
    "# Split\n",
    "X_train3, X_test3, y_train3, y_test3 = train_test_split(X_final3, y3, test_size=0.2, random_state=42)\n",
    "\n",
    "# Model\n",
    "xgb_model3 = XGBRegressor(n_estimators=150, learning_rate=0.1, max_depth=6, random_state=42)\n",
    "xgb_model3.fit(X_train3, y_train3)\n",
    "\n",
    "# Predict\n",
    "y_pred3 = xgb_model3.predict(X_test3)\n",
    "\n",
    "# Evaluate\n",
    "mae3 = mean_absolute_error(y_test3, y_pred3)\n",
    "rmse3 = np.sqrt(mean_squared_error(y_test3, y_pred3))\n",
    "r2_score3 = r2_score(y_test3, y_pred3)\n",
    "pearson_corr3, _ = pearsonr(y_test3, y_pred3)\n",
    "\n",
    "print(f\"📉 MAE (v3): {mae3:.2f}\")\n",
    "print(f\"📈 RMSE (v3): {rmse3:.2f}\")\n",
    "print(f\"🎯 R² Score (v3): {r2_score3:.2f}\")\n",
    "print(f\"🔗 Pearson Correlation (v3): {pearson_corr3:.2f}\")\n"
   ]
  },
  {
   "cell_type": "markdown",
   "id": "ef73bdb1",
   "metadata": {},
   "source": [
    "| Metric               | 🟫 **v1: Random Forest** | 🟦 **v2: XGBoost (basic)** | 🟩 **v3: XGBoost + Enhancements**       |\n",
    "| -------------------- | ------------------------ | -------------------------- | --------------------------------------- |\n",
    "| 📉 **MAE**           | 0.76                     | 0.56                       | ✅ **0.56** (best match)                 |\n",
    "| 📈 **RMSE**          | 0.96                     | 0.73                       | ✅ **0.72** (lowest error)               |\n",
    "| 🎯 **R² Score**      | 0.40                     | 0.65                       | ✅ **0.66** (highest explained variance) |\n",
    "| 🔗 **Pearson Corr.** | 0.64                     | 0.81                       | ✅ **0.82** (strongest correlation)      |\n"
   ]
  },
  {
   "cell_type": "markdown",
   "id": "450a691d",
   "metadata": {},
   "source": [
    "v4 (Custom PyTorch Training with DistilBERT)"
   ]
  },
  {
   "cell_type": "code",
   "execution_count": null,
   "id": "4b8eb2a4",
   "metadata": {},
   "outputs": [],
   "source": [
    "import pandas as pd\n",
    "from sklearn.model_selection import train_test_split\n",
    "from transformers import AutoTokenizer\n",
    "import torch\n",
    "from torch.utils.data import Dataset, DataLoader\n",
    "\n",
    "# Load your dataset\n",
    "df = pd.read_csv(\"essays_for_finetuning.csv\")\n",
    "\n",
    "# Tokenizer\n",
    "tokenizer = AutoTokenizer.from_pretrained(\"distilbert-base-uncased\")\n",
    "\n",
    "# Dataset class\n",
    "class EssayDataset(Dataset):\n",
    "    def __init__(self, texts, targets, tokenizer, max_len=512):\n",
    "        self.texts = texts\n",
    "        self.targets = targets\n",
    "        self.tokenizer = tokenizer\n",
    "        self.max_len = max_len\n",
    "\n",
    "    def __len__(self):\n",
    "        return len(self.texts)\n",
    "\n",
    "    def __getitem__(self, idx):\n",
    "        text = self.texts[idx]\n",
    "        inputs = self.tokenizer(text, padding=\"max_length\", truncation=True, max_length=self.max_len, return_tensors=\"pt\")\n",
    "        inputs = {k: v.squeeze(0) for k, v in inputs.items()}\n",
    "        inputs[\"labels\"] = torch.tensor(self.targets[idx], dtype=torch.float)\n",
    "        return inputs\n",
    "\n",
    "# Split data\n",
    "train_texts, test_texts, train_scores, test_scores = train_test_split(df['essay'].tolist(), df['scaled_score'].tolist(), test_size=0.2, random_state=42)\n",
    "\n",
    "# Load datasets\n",
    "train_dataset = EssayDataset(train_texts, train_scores, tokenizer)\n",
    "test_dataset = EssayDataset(test_texts, test_scores, tokenizer)\n",
    "\n",
    "train_loader = DataLoader(train_dataset, batch_size=8, shuffle=True)\n",
    "test_loader = DataLoader(test_dataset, batch_size=8)\n"
   ]
  },
  {
   "cell_type": "code",
   "execution_count": null,
   "id": "07297207",
   "metadata": {},
   "outputs": [],
   "source": [
    "from transformers import AutoModel\n",
    "import torch.nn as nn\n",
    "\n",
    "class EssayRegressor(nn.Module):\n",
    "    def __init__(self):\n",
    "        super(EssayRegressor, self).__init__()\n",
    "        self.bert = AutoModel.from_pretrained(\"distilbert-base-uncased\")\n",
    "        self.regressor = nn.Sequential(\n",
    "            nn.Linear(self.bert.config.hidden_size, 1)\n",
    "        )\n",
    "\n",
    "    def forward(self, input_ids, attention_mask):\n",
    "        outputs = self.bert(input_ids=input_ids, attention_mask=attention_mask)\n",
    "        last_hidden = outputs.last_hidden_state[:, 0, :]  # CLS token\n",
    "        return self.regressor(last_hidden).squeeze()\n"
   ]
  },
  {
   "cell_type": "code",
   "execution_count": null,
   "id": "9d558b3e",
   "metadata": {},
   "outputs": [
    {
     "name": "stderr",
     "output_type": "stream",
     "text": [
      "100%|██████████| 179/179 [00:48<00:00,  3.71it/s]\n"
     ]
    },
    {
     "name": "stdout",
     "output_type": "stream",
     "text": [
      "Epoch 1 | Loss: 2.2785\n"
     ]
    },
    {
     "name": "stderr",
     "output_type": "stream",
     "text": [
      "100%|██████████| 179/179 [00:48<00:00,  3.72it/s]\n"
     ]
    },
    {
     "name": "stdout",
     "output_type": "stream",
     "text": [
      "Epoch 2 | Loss: 0.6691\n"
     ]
    },
    {
     "name": "stderr",
     "output_type": "stream",
     "text": [
      "100%|██████████| 179/179 [00:48<00:00,  3.71it/s]\n"
     ]
    },
    {
     "name": "stdout",
     "output_type": "stream",
     "text": [
      "Epoch 3 | Loss: 0.5530\n"
     ]
    },
    {
     "name": "stderr",
     "output_type": "stream",
     "text": [
      "100%|██████████| 179/179 [00:48<00:00,  3.71it/s]\n"
     ]
    },
    {
     "name": "stdout",
     "output_type": "stream",
     "text": [
      "Epoch 4 | Loss: 0.4863\n"
     ]
    },
    {
     "name": "stderr",
     "output_type": "stream",
     "text": [
      "100%|██████████| 179/179 [00:48<00:00,  3.71it/s]\n"
     ]
    },
    {
     "name": "stdout",
     "output_type": "stream",
     "text": [
      "Epoch 5 | Loss: 0.3429\n"
     ]
    },
    {
     "name": "stderr",
     "output_type": "stream",
     "text": [
      "100%|██████████| 179/179 [00:48<00:00,  3.69it/s]\n"
     ]
    },
    {
     "name": "stdout",
     "output_type": "stream",
     "text": [
      "Epoch 6 | Loss: 0.2645\n"
     ]
    },
    {
     "name": "stderr",
     "output_type": "stream",
     "text": [
      "100%|██████████| 179/179 [00:48<00:00,  3.69it/s]\n"
     ]
    },
    {
     "name": "stdout",
     "output_type": "stream",
     "text": [
      "Epoch 7 | Loss: 0.1640\n"
     ]
    },
    {
     "name": "stderr",
     "output_type": "stream",
     "text": [
      "100%|██████████| 179/179 [00:48<00:00,  3.69it/s]\n"
     ]
    },
    {
     "name": "stdout",
     "output_type": "stream",
     "text": [
      "Epoch 8 | Loss: 0.1061\n"
     ]
    },
    {
     "name": "stderr",
     "output_type": "stream",
     "text": [
      "100%|██████████| 179/179 [00:48<00:00,  3.69it/s]\n"
     ]
    },
    {
     "name": "stdout",
     "output_type": "stream",
     "text": [
      "Epoch 9 | Loss: 0.0810\n"
     ]
    },
    {
     "name": "stderr",
     "output_type": "stream",
     "text": [
      "100%|██████████| 179/179 [00:48<00:00,  3.68it/s]"
     ]
    },
    {
     "name": "stdout",
     "output_type": "stream",
     "text": [
      "Epoch 10 | Loss: 0.0683\n"
     ]
    },
    {
     "name": "stderr",
     "output_type": "stream",
     "text": [
      "\n"
     ]
    }
   ],
   "source": [
    "import torch\n",
    "from torch.optim import AdamW\n",
    "from sklearn.metrics import mean_absolute_error\n",
    "from tqdm import tqdm\n",
    "\n",
    "device = torch.device(\"cuda\" if torch.cuda.is_available() else \"cpu\")\n",
    "model = EssayRegressor().to(device)\n",
    "optimizer = AdamW(model.parameters(), lr=2e-5)\n",
    "loss_fn = nn.MSELoss()\n",
    "\n",
    "for epoch in range(10):\n",
    "    model.train()\n",
    "    total_loss = 0\n",
    "    for batch in tqdm(train_loader):\n",
    "        input_ids = batch['input_ids'].to(device)\n",
    "        attention_mask = batch['attention_mask'].to(device)\n",
    "        labels = batch['labels'].to(device)\n",
    "\n",
    "        optimizer.zero_grad()\n",
    "        outputs = model(input_ids=input_ids, attention_mask=attention_mask)\n",
    "        loss = loss_fn(outputs, labels)\n",
    "        loss.backward()\n",
    "        optimizer.step()\n",
    "        total_loss += loss.item()\n",
    "\n",
    "    print(f\"Epoch {epoch+1} | Loss: {total_loss / len(train_loader):.4f}\")\n"
   ]
  },
  {
   "cell_type": "code",
   "execution_count": null,
   "id": "55a83f17",
   "metadata": {},
   "outputs": [
    {
     "name": "stdout",
     "output_type": "stream",
     "text": [
      "📉 MAE: 0.53\n",
      "📈 RMSE: 0.70\n",
      "🎯 R² Score: 0.68\n",
      "🔗 Pearson Correlation: 0.83\n"
     ]
    }
   ],
   "source": [
    "import numpy as np\n",
    "from sklearn.metrics import mean_absolute_error, mean_squared_error, r2_score\n",
    "from scipy.stats import pearsonr\n",
    "\n",
    "# Convert to NumPy arrays if not already\n",
    "preds = np.array(preds).flatten()\n",
    "actuals = np.array(actuals).flatten()\n",
    "\n",
    "# Compute metrics\n",
    "mae = mean_absolute_error(actuals, preds)\n",
    "rmse = np.sqrt(mean_squared_error(actuals, preds))\n",
    "r2 = r2_score(actuals, preds)\n",
    "pearson_corr, _ = pearsonr(actuals, preds)\n",
    "\n",
    "# Print results\n",
    "print(f\"📉 MAE: {mae:.2f}\")\n",
    "print(f\"📈 RMSE: {rmse:.2f}\")\n",
    "print(f\"🎯 R² Score: {r2:.2f}\")\n",
    "print(f\"🔗 Pearson Correlation: {pearson_corr:.2f}\")\n"
   ]
  },
  {
   "cell_type": "markdown",
   "id": "83fdb725",
   "metadata": {},
   "source": [
    "| Version | Model Used                 | MAE      | RMSE     | R² Score | Pearson  |\n",
    "| ------- | -------------------------- | -------- | -------- | -------- | -------- |\n",
    "| v1      | TF-IDF + RF                | 0.76     | 0.96     | 0.40     | 0.64     |\n",
    "| v2      | SBERT + RF                 | 0.56     | 0.72     | 0.66     | 0.82     |\n",
    "| v3      | SBERT + RF + More Features | 0.56     | 0.72     | 0.66     | 0.82     |\n",
    "| ✅ v4    | DistilBERT Fine-tuned      | **0.53** | **0.70** | **0.68** | **0.83** |\n"
   ]
  },
  {
   "cell_type": "markdown",
   "id": "9772b8ec",
   "metadata": {},
   "source": [
    "# 📈 Step 6: Final Comparison Charts"
   ]
  },
  {
   "cell_type": "code",
   "execution_count": null,
   "id": "255e0f5e",
   "metadata": {},
   "outputs": [
    {
     "data": {
      "image/png": "[encoded data removed]",
      "text/plain": [
       "<Figure size 1400x800 with 1 Axes>"
      ]
     },
     "metadata": {},
     "output_type": "display_data"
    }
   ],
   "source": [
    "import numpy as np\n",
    "import matplotlib.pyplot as plt\n",
    "\n",
    "# === Define Model Versions and Metrics ===\n",
    "versions = [\"Version 1\", \"Version 2\", \"Version 3\", \"Version 4\"]\n",
    "mae_scores = [0.76, 0.56, 0.56, 0.53]\n",
    "rmse_scores = [0.96, 0.73, 0.72, 0.70]\n",
    "r2_scores = [0.40, 0.65, 0.66, 0.68]\n",
    "pearson_scores = [0.64, 0.81, 0.82, 0.83]\n",
    "\n",
    "x = np.arange(len(versions))\n",
    "width = 0.2\n",
    "\n",
    "# === Create Bar Chart ===\n",
    "fig, ax = plt.subplots(figsize=(14, 8))\n",
    "\n",
    "rects1 = ax.bar(x - 1.5*width, mae_scores, width, label='MAE', color='#3498db')\n",
    "rects2 = ax.bar(x - 0.5*width, rmse_scores, width, label='RMSE', color='#f39c12')\n",
    "rects3 = ax.bar(x + 0.5*width, r2_scores, width, label='R² Score', color='#2ecc71')\n",
    "rects4 = ax.bar(x + 1.5*width, pearson_scores, width, label='Pearson Corr.', color='#9b59b6')\n",
    "\n",
    "# Add text labels above bars\n",
    "def add_labels(rects):\n",
    "    for rect in rects:\n",
    "        height = rect.get_height()\n",
    "        ax.annotate(f'{height:.2f}',\n",
    "                    xy=(rect.get_x() + rect.get_width() / 2, height),\n",
    "                    xytext=(0, 5),\n",
    "                    textcoords=\"offset points\",\n",
    "                    ha='center', va='bottom', fontsize=10)\n",
    "\n",
    "add_labels(rects1)\n",
    "add_labels(rects2)\n",
    "add_labels(rects3)\n",
    "add_labels(rects4)\n",
    "\n",
    "# === Chart Details ===\n",
    "ax.set_ylabel('Score', fontsize=13)\n",
    "ax.set_xlabel('Model Version', fontsize=13)\n",
    "ax.set_title('Model Comparison: MAE, RMSE, R², and Pearson Correlation', fontsize=15)\n",
    "ax.set_xticks(x)\n",
    "ax.set_xticklabels(versions, fontsize=12)\n",
    "ax.set_ylim(0, 1.1)\n",
    "ax.legend(fontsize=11)\n",
    "ax.grid(True, axis='y', linestyle='--', alpha=0.6)\n",
    "\n",
    "plt.tight_layout()\n",
    "plt.show()\n"
   ]
  },
  {
   "cell_type": "markdown",
   "id": "ce0cdff2",
   "metadata": {},
   "source": [
    "# 💾 Step 7: Save Model and Make Predictions"
   ]
  },
  {
   "cell_type": "code",
   "execution_count": null,
   "id": "4eb773f9",
   "metadata": {},
   "outputs": [],
   "source": [
    "def predict_score(essay_text, model, tokenizer, device='cuda'):\n",
    "    model.eval()\n",
    "    inputs = tokenizer(essay_text, return_tensors='pt', truncation=True, padding='max_length', max_length=512)\n",
    "    inputs = {k: v.to(device) for k, v in inputs.items()}\n",
    "\n",
    "    with torch.no_grad():\n",
    "        output = model(**inputs).item()\n",
    "    \n",
    "    return output  # no rounding\n"
   ]
  },
  {
   "cell_type": "code",
   "execution_count": null,
   "id": "18872b8f",
   "metadata": {},
   "outputs": [],
   "source": [
    "from sklearn.metrics import cohen_kappa_score\n",
    "qwk = cohen_kappa_score(actuals, np.round(preds), weights='quadratic')"
   ]
  },
  {
   "cell_type": "code",
   "execution_count": null,
   "id": "0517d701",
   "metadata": {},
   "outputs": [
    {
     "name": "stdout",
     "output_type": "stream",
     "text": [
      "Predicted Score: 2\n"
     ]
    }
   ],
   "source": [
    "example_essay = \"Education is the cornerstone of society...\"\n",
    "predicted_score = round(predict_score(example_essay, model, tokenizer))\n",
    "print(f\"Predicted Score: {predicted_score}\")"
   ]
  },
  {
   "cell_type": "code",
   "execution_count": null,
   "id": "0d692b46",
   "metadata": {},
   "outputs": [
    {
     "name": "stdout",
     "output_type": "stream",
     "text": [
      "Predicted Score: 8\n"
     ]
    }
   ],
   "source": [
    "example_essay2 = \"Egypt, known for its rich history and cultural heritage, has played a pivotal role in shaping human civilization. In this essay, an exploration of Egypt's historical significance, its contemporary socio-economic and political landscape, influential figures, and future prospects will be undertaken. Understanding Egypt requires examining its past, present, and potential future developments. Egypt's history stretches back over millennia. The ancient civilization flourished along the banks of the Nile River, yielding remarkable advancements in various fields, such as architecture, mathematics, and medicine. The pyramids, especially the Great Pyramid of Giza, remain a testament to the engineering prowess and organizational skills of ancient Egyptians. These monumental structures, built as tombs for pharaohs, reflect both religious beliefs and the societal importance of the rulers. The influence of ancient Egyptian culture persists, evident in modern education, art, and architecture. Scholars and archaeologists continue to study hieroglyphics, ancient literature, and religious texts. The religion practiced by ancient Egyptians, with its pantheon of gods and elaborate rituals, laid the groundwork for future belief systems. Influential characters from this era, such as Tutankhamun and Cleopatra, still capture the global imagination, embodying both the glory and complexity of Egypt's past. Transitioning from its ancient roots, modern Egypt has undergone significant political and social changes. Following a long history of foreign rule and colonization, the country attained independence in the early 20th century. However, the struggle for political stability was far from over. The revolution of 1952, which led to the establishment of a republic, marked a turning point in modern Egyptian history. Gamal Abdel Nasser emerged as a prominent leader, advocating for Arab nationalism and social reform. His policies aimed at industrialization and modernization reshaped Egypt's economic landscape. In recent years, the Arab Spring of 2011 dramatically altered the political landscape. Egyptians mobilized for change, demanding democratic reforms and an end to corruption. The ensuing events led to the ousting of President Hosni Mubarak. However, the post-revolution transition was tumultuous, with power struggles between military and civilian authorities. Current President Abdel Fattah el-Sisi, who came to power following a military coup in 2013, has faced criticism for human rights violations and a lack of democratic freedoms. Economically, Egypt's challenges have been multifaceted. The country has a diverse economy, heavily reliant on sectors such as tourism, agriculture, and remittances from Egyptians working abroad. The tourism sector, a vital source of revenue, was significantly impacted by political instability and the COVID-19 pandemic. In response, the government has implemented initiatives to enhance security and promote tourism, aiming to revitalize this essential component of the economy. Despite economic challenges, there are prospects for growth. The discovery of natural gas reserves in the Mediterranean has positioned Egypt as a regional energy player. The government's focus on energy diversification, industrialization, and infrastructure development aims to stimulate economic growth. Projects such as the New Administrative Capital showcase ambitions to modernize urban environments and foster economic opportunities. Culturally, Egypt remains a center of art, literature, and education in the Middle East. Its universities continue to attract students from across the region and beyond. The preservation of cultural heritage is crucial in maintaining Egypt's identity. Recent efforts to conserve ancient sites, along with international collaborations, demonstrate the commitment to safeguarding historical treasures for future generations. Influential figures continue to shape Egypt's contemporary landscape. Activists, artists, and scholars play significant roles in advocating for social justice and democratic reforms. The voices of young Egyptians are particularly important in mobilizing change and addressing pressing issues, such as unemployment, education, and women’s rights. Social media has emerged as an essential tool for organizing events and disseminating information, empowering the youth to challenge outdated practices and push for progress. Various perspectives exist regarding Egypt's future trajectory. Optimists point to the potential for economic revitalization and political reform through active civic engagement. They argue that the younger generation, educated and aware of global dynamics, will push for a more democratic and prosperous society. On the other hand, pessimists caution against the authoritarian tendencies that may stifle dissent and curtail freedoms. In conclusion, Egypt's historical legacy provides a rich backdrop for understanding its present-day complexities and challenges. The interplay of ancient culture with modern political and economic realities shapes the nation's identity. Influential figures and citizens alike contribute to the ongoing narrative of Egypt, striving for progress amid adversity. Looking ahead, the potential for economic growth and enhanced civil rights remains intertwined with the collective will of the Egyptian people to navigate their path toward a more democratic and prosperous future. As Egypt continues to evolve, it will face challenges and opportunities that will define the next chapters in its illustrious history.\"\n",
    "predicted_score2 = round(predict_score(example_essay2, model, tokenizer))\n",
    "print(f\"Predicted Score: {predicted_score2}\")"
   ]
  },
  {
   "cell_type": "code",
   "execution_count": null,
   "id": "958719d6",
   "metadata": {},
   "outputs": [],
   "source": [
    "import torch\n",
    "# Save model weights (state_dict)\n",
    "torch.save(model.state_dict(), \"essay_regressor_weights.pth\")"
   ]
  },
  {
   "cell_type": "code",
   "execution_count": null,
   "id": "535a1fe8",
   "metadata": {},
   "outputs": [
    {
     "data": {
      "text/plain": [
       "('essay_tokenizer\\\\tokenizer_config.json',\n",
       " 'essay_tokenizer\\\\special_tokens_map.json',\n",
       " 'essay_tokenizer\\\\vocab.txt',\n",
       " 'essay_tokenizer\\\\added_tokens.json',\n",
       " 'essay_tokenizer\\\\tokenizer.json')"
      ]
     },
     "execution_count": 62,
     "metadata": {},
     "output_type": "execute_result"
    }
   ],
   "source": [
    "# Save model/tokenizer\n",
    "torch.save(model.state_dict(), \"essay_grader_model.pt\")\n",
    "tokenizer.save_pretrained(\"essay_tokenizer\")\n",
    "\n",
    "# Load later (optional)\n",
    "# model.load_state_dict(torch.load(\"essay_grader_model.pt\"))"
   ]
  },
  {
   "cell_type": "markdown",
   "id": "488e5ded",
   "metadata": {},
   "source": [
    "# 📝 Step 8: Conclusion and Summary\n",
    "\n",
    "### 🔍 Project Overview\n",
    "This project focused on building an **Automatic Essay Scoring system** that predicts numerical scores for student essays using natural language processing (NLP) and machine learning techniques. The dataset used was the **ASAP Automated Essay Scoring dataset**, and the goal was to predict the essay’s quality as a **regression task** (real-valued score), rather than classifying into letter grades.\n",
    "\n",
    "---\n",
    "\n",
    "### ✅ Model Versions & Comparison\n",
    "\n",
    "| Version | Description | MAE | RMSE | R² Score | Pearson Correlation |\n",
    "|---------|-------------|-----|------|----------|----------------------|\n",
    "| **V1** | TF-IDF + Random Forest | 0.76 | 0.96 | 0.40 | 0.64 |\n",
    "| **V2** | Sentence-BERT Embedding + RF | 0.56 | 0.73 | 0.65 | 0.81 |\n",
    "| **V3** | Sentence-BERT + Spelling Features | 0.56 | 0.72 | 0.66 | 0.82 |\n",
    "| **V4** | Fine-Tuned DistilBERT (Regression) | 0.53 | 0.70 | 0.68 | 0.83 |\n",
    "\n",
    "> 🚀 The final model (V4), a fine-tuned transformer (DistilBERT), achieved the best results by leveraging contextual understanding of essay content.\n",
    "\n",
    "---\n",
    "\n",
    "### 🧠 Key Enhancements\n",
    "- Preprocessing with spelling and grammar error analysis\n",
    "- Use of Sentence-BERT embeddings for semantic understanding\n",
    "- Handcrafted features (e.g., spelling error count)\n",
    "- Fine-tuning a transformer model for regression\n",
    "\n",
    "---\n",
    "\n",
    "### 🏁 Conclusion\n",
    "The project demonstrates that modern NLP techniques—especially transformer-based models—offer significant advantages for essay scoring. The system effectively predicts essay quality and can be extended to:\n",
    "- Multilingual essay evaluation\n",
    "- Real-time feedback systems\n",
    "- Explainable score reasoning\n",
    "\n",
    "📊 This work lays the groundwork for fair, scalable, and intelligent educational assessment tools."
   ]
  },
  {
   "cell_type": "code",
   "execution_count": null,
   "id": "77f809c3",
   "metadata": {},
   "outputs": [],
   "source": []
  }
 ],
 "metadata": {
  "kernelspec": {
   "display_name": "Python 3",
   "language": "python",
   "name": "python3"
  },
  "language_info": {
   "codemirror_mode": {
    "name": "ipython",
    "version": 3
   },
   "file_extension": ".py",
   "mimetype": "text/x-python",
   "name": "python",
   "nbconvert_exporter": "python",
   "pygments_lexer": "ipython3",
   "version": "3.10.11"
  }
 },
 "nbformat": 4,
 "nbformat_minor": 5
}
